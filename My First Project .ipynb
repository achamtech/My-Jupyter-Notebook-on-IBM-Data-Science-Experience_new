{
    "cells": [
        {
            "cell_type": "markdown",
            "metadata": {},
            "source": "# My Jupyter Notebook on IBM Data Science Experience"
        },
        {
            "cell_type": "markdown",
            "metadata": {
                "collapsed": true
            },
            "source": "## Achamyeleh Tamiru Ewunetu  \n\nCurrent Occupation: Economist/Researcher  \nDesired Occupation: Full time Data Scientist\n"
        },
        {
            "cell_type": "markdown",
            "metadata": {},
            "source": "_I am interested in Data Science not only it is a growing field and its great potential in the upcoming century, it is also a natural extension of my graduate and undergraduate studies and the experience I have over the last 10 years._"
        },
        {
            "cell_type": "markdown",
            "metadata": {},
            "source": "### Calculate the  result of  6 to the power of 4"
        },
        {
            "cell_type": "code",
            "execution_count": 11,
            "metadata": {},
            "outputs": [
                {
                    "name": "stdout",
                    "output_type": "stream",
                    "text": "A: 6^3 equals 216. \n"
                }
            ],
            "source": "a = 6 ** 3\nprint (\"A: 6^3 equals \" + repr(a) + \". \")"
        },
        {
            "cell_type": "markdown",
            "metadata": {},
            "source": "### This is an African Giraffe"
        },
        {
            "cell_type": "markdown",
            "metadata": {},
            "source": "![][giraffe]\n\n[giraffe]:http://upload.wikimedia.org/wikipedia/commons/thumb/b/b7/South_African_Giraffe,_head.jpg/877px-South_African_Giraffe,_head.jpg \"Picture of a Giraffe\""
        },
        {
            "cell_type": "markdown",
            "metadata": {},
            "source": "#### Groceries:\n\n* Fruit:\n    * Pears\n    0. Peaches\n    3. Plums\n    4. Apples \n        - Granny Smith \n        7. Gala\n    * Oranges\n    - Berries \n        - Strawberries \n        + Blueberries\n        * Raspberries\n    - Bananas\n9. Bread:\n    * Whole Wheat\n        * With oats on crust\n        0. Without oats on crust\n    + Rye \n    0. White\n0. Dairy:\n    * Milk\n        + Whole\n        0. Skim\n    - Cheese\n        - Wisconsin Cheddar\n        0. Pepper Jack"
        },
        {
            "cell_type": "markdown",
            "metadata": {},
            "source": "#### Unemolpyment Rate, GDP Growth and Inflation Rate "
        },
        {
            "cell_type": "markdown",
            "metadata": {},
            "source": "|Unemployment rate|GDP growth Rate|Inflation Rate|\n|-----------------|---------------|--------------|\n|5%               |10%            |9%            | \n|10%              |7%             |8.5%          | \n|15%              |6%             |8.%           | \n|35%              |1.5%           |7.3%          | \n\n"
        },
        {
            "cell_type": "markdown",
            "metadata": {},
            "source": "* Fruit:\n    1. Pears\n    2. Peaches\n    3. Plums\n    4. Apples \n    5. Oranges\n    6.  Berries \n    7. Bananas"
        },
        {
            "cell_type": "markdown",
            "metadata": {},
            "source": "[click this link](http://en.wikipedia.org)"
        },
        {
            "cell_type": "code",
            "execution_count": null,
            "metadata": {},
            "outputs": [],
            "source": ""
        }
    ],
    "metadata": {
        "kernelspec": {
            "display_name": "Python 3.6",
            "language": "python",
            "name": "python3"
        },
        "language_info": {
            "codemirror_mode": {
                "name": "ipython",
                "version": 3
            },
            "file_extension": ".py",
            "mimetype": "text/x-python",
            "name": "python",
            "nbconvert_exporter": "python",
            "pygments_lexer": "ipython3",
            "version": "3.6.8"
        }
    },
    "nbformat": 4,
    "nbformat_minor": 1
}